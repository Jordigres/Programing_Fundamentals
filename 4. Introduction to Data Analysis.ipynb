{
 "cells": [
  {
   "cell_type": "markdown",
   "metadata": {},
   "source": [
    "<div style=\"width: 100%; clear: both;\">\n",
    "    <div style=\"float: left; width: 50%;\">\n",
    "       <img src=\"http://www.uoc.edu/portal/_resources/common/imatges/marca_UOC/UOC_Masterbrand.jpg\", align=\"left\">\n",
    "    </div>\n",
    "</div>\n",
    "\n",
    "<div style=\"float: right; width: 50%;\">\n",
    "    <p style=\"margin: 0; padding-top: 22px; text-align:right;\">22.401 · Programming Fundamentals</p>\n",
    "    <p style=\"margin: 0; text-align:right;\">Master's Degree in Data Science</p>\n",
    "</div>\n",
    "\n",
    "</div>\n",
    "<div style=\"width: 100%; clear: both;\">\n",
    "<div style=\"width:100%;\">&nbsp;</div>"
   ]
  },
  {
   "cell_type": "markdown",
   "metadata": {},
   "source": [
    "Programming Fundamentals\n",
    "============================"
   ]
  },
  {
   "cell_type": "markdown",
   "metadata": {},
   "source": [
    "In this notebook, some relevant aspects of data analysis are introduced (KNeighbour, PCA, decision tree, t-test, linear regression, etc.)  "
   ]
  },
  {
   "cell_type": "markdown",
   "metadata": {},
   "source": [
    "## Exercice 1\n",
    "\n",
    "Describe the purpose of each step in the following code fragment:"
   ]
  },
  {
   "cell_type": "markdown",
   "metadata": {},
   "source": [
    "import numpy as np <br>\n",
    "data = np.vstack([ages, weight, children, gross, properties ]).T <br>\n",
    "<br>\n",
    "data_normalised = (data - data.mean(axis=0) )/ data.std(axis=0) <br>\n",
    "<br>\n",
    "pca = PCA(n_components=2) <br>\n",
    "pca.fit(data_normalised) <br>\n",
    "print(pca.explained_variance_ratio_) <br>\n",
    "print(pca.singular_values_) <br>\n",
    "<br>\n",
    "transformed_data = pca.transform(data_normalised) <br>\n",
    "<br>\n",
    "plt.scatter( transformed_data[:,0], transformed_data[:,1], c=corporative_job, cmap='jet') <br>\n",
    "plt.xlabel('PCA 1') <br>\n",
    "plt.ylabel('PCA 2') <br>"
   ]
  },
  {
   "cell_type": "markdown",
   "metadata": {},
   "source": [
    "**Answer**\n",
    "\n",
    "- Reorganize the data structure: <br>\n",
    "data = np.vstack([ages, weight, children, gross, properties ]).T <br>\n",
    "<br>\n",
    "- Normalize the data: <br>\n",
    "data_normalised = (data - data.mean(axis=0) )/ data.std(axis=0) <br>\n",
    "<br>\n",
    "- Create a PCA object that extracts the 2 principal components of the variance: <br>\n",
    "pca = PCA(n_components=2) <br>\n",
    "<br>\n",
    "- Fit the model: <br>\n",
    "pca.fit(data_normalised) <br>\n",
    "<br>\n",
    "- Prints on screen the variability explained by the model compononents: <br>\n",
    "print(pca.explained_variance_ratio_) <br>\n",
    "<br>\n",
    "- Reduce the dimensionality of the data: <br>\n",
    "transformed_data = pca.transform(data_normalised) <br>\n",
    "<br>\n",
    "- Create a scatter plot to evaluate the transformation: <br>\n",
    "plt.scatter( transformed_data[:,0], transformed_data[:,1], c=corporative_job, cmap='jet') <br>\n",
    "plt.xlabel('PCA 1') <br>\n",
    "plt.ylabel('PCA 2') <br>"
   ]
  },
  {
   "cell_type": "markdown",
   "metadata": {},
   "source": [
    "## Exercice 2\n",
    "\n",
    "Load the [diabetis](https://scikit-learn.org/stable/modules/generated/sklearn.datasets.load_diabetes.html) dataset from the library `sklearn`. The records of this file contain the different characteristics of diabetes patients and their diagnosis. In this case, the `target` variable is a quantitative measure of the diabetes progression one year after the onset of the disease. \n",
    "\n",
    "**2.1)** Create a dataframe that includes a *progression* column which contains the diabetes progression. The rest of the variables' names correspond to the `feature_names`.\n",
    "\n",
    "**2.2)** Create a dataframe that contains all variables' descriptive statistics grouped by: severe deterioration (progression of diabetes above the average) or moderate deterioration (progression of diabetes below or equal the average). Descriptive statistics should include mean, standard deviation, minimum, maximum, median, 25th percentile, and 75th percentile.\n",
    "\n",
    "**2.3)** Once this is done, graph the `age` and `bmi` by type of impairment (severe or moderate) using a bar chart that represents the mean and, as error bars, the [standard error](https://pandas.pydata.org/pandas-docs/stable/reference/api/pandas.DataFrame.sem.html).\n",
    "\n",
    "**2.4)** Explore the documentation of [Diabetes dataset](https://scikit-learn.org/stable/datasets/index.html#diabetes-dataset) and explain why the age values are so small. "
   ]
  },
  {
   "cell_type": "code",
   "execution_count": 1,
   "metadata": {},
   "outputs": [
    {
     "data": {
      "text/html": [
       "<div>\n",
       "<style scoped>\n",
       "    .dataframe tbody tr th:only-of-type {\n",
       "        vertical-align: middle;\n",
       "    }\n",
       "\n",
       "    .dataframe tbody tr th {\n",
       "        vertical-align: top;\n",
       "    }\n",
       "\n",
       "    .dataframe thead th {\n",
       "        text-align: right;\n",
       "    }\n",
       "</style>\n",
       "<table border=\"1\" class=\"dataframe\">\n",
       "  <thead>\n",
       "    <tr style=\"text-align: right;\">\n",
       "      <th></th>\n",
       "      <th>age</th>\n",
       "      <th>sex</th>\n",
       "      <th>bmi</th>\n",
       "      <th>bp</th>\n",
       "      <th>s1</th>\n",
       "      <th>s2</th>\n",
       "      <th>s3</th>\n",
       "      <th>s4</th>\n",
       "      <th>s5</th>\n",
       "      <th>s6</th>\n",
       "      <th>progresion</th>\n",
       "    </tr>\n",
       "  </thead>\n",
       "  <tbody>\n",
       "    <tr>\n",
       "      <th>0</th>\n",
       "      <td>0.038076</td>\n",
       "      <td>0.050680</td>\n",
       "      <td>0.061696</td>\n",
       "      <td>0.021872</td>\n",
       "      <td>-0.044223</td>\n",
       "      <td>-0.034821</td>\n",
       "      <td>-0.043401</td>\n",
       "      <td>-0.002592</td>\n",
       "      <td>0.019908</td>\n",
       "      <td>-0.017646</td>\n",
       "      <td>151.0</td>\n",
       "    </tr>\n",
       "    <tr>\n",
       "      <th>1</th>\n",
       "      <td>-0.001882</td>\n",
       "      <td>-0.044642</td>\n",
       "      <td>-0.051474</td>\n",
       "      <td>-0.026328</td>\n",
       "      <td>-0.008449</td>\n",
       "      <td>-0.019163</td>\n",
       "      <td>0.074412</td>\n",
       "      <td>-0.039493</td>\n",
       "      <td>-0.068330</td>\n",
       "      <td>-0.092204</td>\n",
       "      <td>75.0</td>\n",
       "    </tr>\n",
       "  </tbody>\n",
       "</table>\n",
       "</div>"
      ],
      "text/plain": [
       "        age       sex       bmi        bp        s1        s2        s3  \\\n",
       "0  0.038076  0.050680  0.061696  0.021872 -0.044223 -0.034821 -0.043401   \n",
       "1 -0.001882 -0.044642 -0.051474 -0.026328 -0.008449 -0.019163  0.074412   \n",
       "\n",
       "         s4        s5        s6  progresion  \n",
       "0 -0.002592  0.019908 -0.017646       151.0  \n",
       "1 -0.039493 -0.068330 -0.092204        75.0  "
      ]
     },
     "execution_count": 1,
     "metadata": {},
     "output_type": "execute_result"
    }
   ],
   "source": [
    "import matplotlib.pyplot as plt\n",
    "%matplotlib inline\n",
    "import pandas as pd\n",
    "from sklearn import datasets\n",
    "\n",
    "### 2.1\n",
    "\n",
    "#Load and create dataframe\n",
    "diabetes_data = datasets.load_diabetes()\n",
    "diabetes_data_df = pd.DataFrame(data=diabetes_data['data'], columns=diabetes_data['feature_names'])\n",
    "diabetes_data_df['progresion'] =  diabetes_data['target']\n",
    "diabetes_data_df.head(2)"
   ]
  },
  {
   "cell_type": "code",
   "execution_count": 34,
   "metadata": {
    "scrolled": true
   },
   "outputs": [
    {
     "data": {
      "text/html": [
       "<div>\n",
       "<style scoped>\n",
       "    .dataframe tbody tr th:only-of-type {\n",
       "        vertical-align: middle;\n",
       "    }\n",
       "\n",
       "    .dataframe tbody tr th {\n",
       "        vertical-align: top;\n",
       "    }\n",
       "\n",
       "    .dataframe thead tr th {\n",
       "        text-align: left;\n",
       "    }\n",
       "\n",
       "    .dataframe thead tr:last-of-type th {\n",
       "        text-align: right;\n",
       "    }\n",
       "</style>\n",
       "<table border=\"1\" class=\"dataframe\">\n",
       "  <thead>\n",
       "    <tr>\n",
       "      <th></th>\n",
       "      <th colspan=\"8\" halign=\"left\">age</th>\n",
       "      <th colspan=\"2\" halign=\"left\">sex</th>\n",
       "      <th>...</th>\n",
       "      <th colspan=\"2\" halign=\"left\">s6</th>\n",
       "      <th colspan=\"8\" halign=\"left\">progresion</th>\n",
       "    </tr>\n",
       "    <tr>\n",
       "      <th></th>\n",
       "      <th>count</th>\n",
       "      <th>mean</th>\n",
       "      <th>std</th>\n",
       "      <th>min</th>\n",
       "      <th>25%</th>\n",
       "      <th>50%</th>\n",
       "      <th>75%</th>\n",
       "      <th>max</th>\n",
       "      <th>count</th>\n",
       "      <th>mean</th>\n",
       "      <th>...</th>\n",
       "      <th>75%</th>\n",
       "      <th>max</th>\n",
       "      <th>count</th>\n",
       "      <th>mean</th>\n",
       "      <th>std</th>\n",
       "      <th>min</th>\n",
       "      <th>25%</th>\n",
       "      <th>50%</th>\n",
       "      <th>75%</th>\n",
       "      <th>max</th>\n",
       "    </tr>\n",
       "    <tr>\n",
       "      <th>deterioro</th>\n",
       "      <th></th>\n",
       "      <th></th>\n",
       "      <th></th>\n",
       "      <th></th>\n",
       "      <th></th>\n",
       "      <th></th>\n",
       "      <th></th>\n",
       "      <th></th>\n",
       "      <th></th>\n",
       "      <th></th>\n",
       "      <th></th>\n",
       "      <th></th>\n",
       "      <th></th>\n",
       "      <th></th>\n",
       "      <th></th>\n",
       "      <th></th>\n",
       "      <th></th>\n",
       "      <th></th>\n",
       "      <th></th>\n",
       "      <th></th>\n",
       "      <th></th>\n",
       "    </tr>\n",
       "  </thead>\n",
       "  <tbody>\n",
       "    <tr>\n",
       "      <th>moderate</th>\n",
       "      <td>247.0</td>\n",
       "      <td>-0.006779</td>\n",
       "      <td>0.047735</td>\n",
       "      <td>-0.107226</td>\n",
       "      <td>-0.041840</td>\n",
       "      <td>-0.001882</td>\n",
       "      <td>0.027178</td>\n",
       "      <td>0.092564</td>\n",
       "      <td>247.0</td>\n",
       "      <td>-0.001033</td>\n",
       "      <td>...</td>\n",
       "      <td>0.015491</td>\n",
       "      <td>0.106617</td>\n",
       "      <td>247.0</td>\n",
       "      <td>93.291498</td>\n",
       "      <td>32.269131</td>\n",
       "      <td>25.0</td>\n",
       "      <td>67.0</td>\n",
       "      <td>91.0</td>\n",
       "      <td>121.0</td>\n",
       "      <td>152.0</td>\n",
       "    </tr>\n",
       "    <tr>\n",
       "      <th>severe</th>\n",
       "      <td>195.0</td>\n",
       "      <td>0.008587</td>\n",
       "      <td>0.046180</td>\n",
       "      <td>-0.107226</td>\n",
       "      <td>-0.025494</td>\n",
       "      <td>0.012648</td>\n",
       "      <td>0.043525</td>\n",
       "      <td>0.110727</td>\n",
       "      <td>195.0</td>\n",
       "      <td>0.001308</td>\n",
       "      <td>...</td>\n",
       "      <td>0.044485</td>\n",
       "      <td>0.135612</td>\n",
       "      <td>195.0</td>\n",
       "      <td>226.666667</td>\n",
       "      <td>46.881037</td>\n",
       "      <td>153.0</td>\n",
       "      <td>185.0</td>\n",
       "      <td>220.0</td>\n",
       "      <td>263.0</td>\n",
       "      <td>346.0</td>\n",
       "    </tr>\n",
       "  </tbody>\n",
       "</table>\n",
       "<p>2 rows × 88 columns</p>\n",
       "</div>"
      ],
      "text/plain": [
       "             age                                                              \\\n",
       "           count      mean       std       min       25%       50%       75%   \n",
       "deterioro                                                                      \n",
       "moderate   247.0 -0.006779  0.047735 -0.107226 -0.041840 -0.001882  0.027178   \n",
       "severe     195.0  0.008587  0.046180 -0.107226 -0.025494  0.012648  0.043525   \n",
       "\n",
       "                       sex            ...        s6           progresion  \\\n",
       "                max  count      mean  ...       75%       max      count   \n",
       "deterioro                             ...                                  \n",
       "moderate   0.092564  247.0 -0.001033  ...  0.015491  0.106617      247.0   \n",
       "severe     0.110727  195.0  0.001308  ...  0.044485  0.135612      195.0   \n",
       "\n",
       "                                                                     \n",
       "                 mean        std    min    25%    50%    75%    max  \n",
       "deterioro                                                            \n",
       "moderate    93.291498  32.269131   25.0   67.0   91.0  121.0  152.0  \n",
       "severe     226.666667  46.881037  153.0  185.0  220.0  263.0  346.0  \n",
       "\n",
       "[2 rows x 88 columns]"
      ]
     },
     "execution_count": 34,
     "metadata": {},
     "output_type": "execute_result"
    }
   ],
   "source": [
    "### 2.2\n",
    "import warnings\n",
    "warnings.filterwarnings('ignore')\n",
    "\n",
    "# Create empty string column\n",
    "diabetes_data_df['deterioro'] = \"\"\n",
    "\n",
    "# Add severe and moderate\n",
    "index_severo = diabetes_data_df[ diabetes_data_df['progresion'] > diabetes_data_df['progresion'].mean() ].index\n",
    "diabetes_data_df['deterioro'].iloc[index_severo] =  'severe'\n",
    "\n",
    "index_moderado = diabetes_data_df[ diabetes_data_df['progresion'] <= diabetes_data_df['progresion'].mean() ].index\n",
    "diabetes_data_df['deterioro'].iloc[index_moderado] = 'moderate'\n",
    "\n",
    "## Ara mostra els estadístics descriptius per a totes les categories\n",
    "diabetes_data_df.groupby('deterioro').describe()"
   ]
  },
  {
   "cell_type": "code",
   "execution_count": 4,
   "metadata": {},
   "outputs": [
    {
     "data": {
      "text/html": [
       "<div>\n",
       "<style scoped>\n",
       "    .dataframe tbody tr th:only-of-type {\n",
       "        vertical-align: middle;\n",
       "    }\n",
       "\n",
       "    .dataframe tbody tr th {\n",
       "        vertical-align: top;\n",
       "    }\n",
       "\n",
       "    .dataframe thead th {\n",
       "        text-align: right;\n",
       "    }\n",
       "</style>\n",
       "<table border=\"1\" class=\"dataframe\">\n",
       "  <thead>\n",
       "    <tr style=\"text-align: right;\">\n",
       "      <th></th>\n",
       "      <th>age</th>\n",
       "      <th>sex</th>\n",
       "      <th>bmi</th>\n",
       "      <th>bp</th>\n",
       "      <th>s1</th>\n",
       "      <th>s2</th>\n",
       "      <th>s3</th>\n",
       "      <th>s4</th>\n",
       "      <th>s5</th>\n",
       "      <th>s6</th>\n",
       "      <th>progresion</th>\n",
       "      <th>deterioro</th>\n",
       "    </tr>\n",
       "  </thead>\n",
       "  <tbody>\n",
       "    <tr>\n",
       "      <th>0</th>\n",
       "      <td>0.038076</td>\n",
       "      <td>0.050680</td>\n",
       "      <td>0.061696</td>\n",
       "      <td>0.021872</td>\n",
       "      <td>-0.044223</td>\n",
       "      <td>-0.034821</td>\n",
       "      <td>-0.043401</td>\n",
       "      <td>-0.002592</td>\n",
       "      <td>0.019908</td>\n",
       "      <td>-0.017646</td>\n",
       "      <td>151.0</td>\n",
       "      <td>moderate</td>\n",
       "    </tr>\n",
       "    <tr>\n",
       "      <th>1</th>\n",
       "      <td>-0.001882</td>\n",
       "      <td>-0.044642</td>\n",
       "      <td>-0.051474</td>\n",
       "      <td>-0.026328</td>\n",
       "      <td>-0.008449</td>\n",
       "      <td>-0.019163</td>\n",
       "      <td>0.074412</td>\n",
       "      <td>-0.039493</td>\n",
       "      <td>-0.068330</td>\n",
       "      <td>-0.092204</td>\n",
       "      <td>75.0</td>\n",
       "      <td>moderate</td>\n",
       "    </tr>\n",
       "    <tr>\n",
       "      <th>2</th>\n",
       "      <td>0.085299</td>\n",
       "      <td>0.050680</td>\n",
       "      <td>0.044451</td>\n",
       "      <td>-0.005671</td>\n",
       "      <td>-0.045599</td>\n",
       "      <td>-0.034194</td>\n",
       "      <td>-0.032356</td>\n",
       "      <td>-0.002592</td>\n",
       "      <td>0.002864</td>\n",
       "      <td>-0.025930</td>\n",
       "      <td>141.0</td>\n",
       "      <td>moderate</td>\n",
       "    </tr>\n",
       "    <tr>\n",
       "      <th>3</th>\n",
       "      <td>-0.089063</td>\n",
       "      <td>-0.044642</td>\n",
       "      <td>-0.011595</td>\n",
       "      <td>-0.036656</td>\n",
       "      <td>0.012191</td>\n",
       "      <td>0.024991</td>\n",
       "      <td>-0.036038</td>\n",
       "      <td>0.034309</td>\n",
       "      <td>0.022692</td>\n",
       "      <td>-0.009362</td>\n",
       "      <td>206.0</td>\n",
       "      <td>severe</td>\n",
       "    </tr>\n",
       "    <tr>\n",
       "      <th>4</th>\n",
       "      <td>0.005383</td>\n",
       "      <td>-0.044642</td>\n",
       "      <td>-0.036385</td>\n",
       "      <td>0.021872</td>\n",
       "      <td>0.003935</td>\n",
       "      <td>0.015596</td>\n",
       "      <td>0.008142</td>\n",
       "      <td>-0.002592</td>\n",
       "      <td>-0.031991</td>\n",
       "      <td>-0.046641</td>\n",
       "      <td>135.0</td>\n",
       "      <td>moderate</td>\n",
       "    </tr>\n",
       "  </tbody>\n",
       "</table>\n",
       "</div>"
      ],
      "text/plain": [
       "        age       sex       bmi        bp        s1        s2        s3  \\\n",
       "0  0.038076  0.050680  0.061696  0.021872 -0.044223 -0.034821 -0.043401   \n",
       "1 -0.001882 -0.044642 -0.051474 -0.026328 -0.008449 -0.019163  0.074412   \n",
       "2  0.085299  0.050680  0.044451 -0.005671 -0.045599 -0.034194 -0.032356   \n",
       "3 -0.089063 -0.044642 -0.011595 -0.036656  0.012191  0.024991 -0.036038   \n",
       "4  0.005383 -0.044642 -0.036385  0.021872  0.003935  0.015596  0.008142   \n",
       "\n",
       "         s4        s5        s6  progresion deterioro  \n",
       "0 -0.002592  0.019908 -0.017646       151.0  moderate  \n",
       "1 -0.039493 -0.068330 -0.092204        75.0  moderate  \n",
       "2 -0.002592  0.002864 -0.025930       141.0  moderate  \n",
       "3  0.034309  0.022692 -0.009362       206.0    severe  \n",
       "4 -0.002592 -0.031991 -0.046641       135.0  moderate  "
      ]
     },
     "execution_count": 4,
     "metadata": {},
     "output_type": "execute_result"
    }
   ],
   "source": [
    "diabetes_data_df.head()"
   ]
  },
  {
   "cell_type": "code",
   "execution_count": 5,
   "metadata": {},
   "outputs": [
    {
     "data": {
      "image/png": "[encoded data removed]",
      "text/plain": [
       "<Figure size 432x288 with 1 Axes>"
      ]
     },
     "metadata": {
      "needs_background": "light"
     },
     "output_type": "display_data"
    },
    {
     "data": {
      "text/plain": [
       "Text(0, 0.5, 'BMI Normalitzat')"
      ]
     },
     "execution_count": 5,
     "metadata": {},
     "output_type": "execute_result"
    },
    {
     "data": {
      "image/png": "[encoded data removed]",
      "text/plain": [
       "<Figure size 432x288 with 1 Axes>"
      ]
     },
     "metadata": {
      "needs_background": "light"
     },
     "output_type": "display_data"
    }
   ],
   "source": [
    "### 2.3)\n",
    "plt.figure()\n",
    "plt.bar(['moderate','severe'], diabetes_data_df.groupby('deterioro').mean()['age'],\n",
    "                yerr=diabetes_data_df.groupby('deterioro').sem()['age'])\n",
    "plt.ylabel(\"Edat Normalitzada\")\n",
    "\n",
    "plt.show()\n",
    "plt.bar(['moderate','severe'], diabetes_data_df.groupby('deterioro').mean()['bmi'],\n",
    "                yerr=diabetes_data_df.groupby('deterioro').sem()['bmi'])\n",
    "plt.ylabel(\"BMI Normalitzat\")\n"
   ]
  },
  {
   "cell_type": "markdown",
   "metadata": {},
   "source": [
    "**2.4) Answer**\n",
    "\n",
    "The age values are so small because they have been normalized. The numerical values have been transformed to be centered on the mean and scaled by the standard deviation (i.e. the sum of the squares in each data column sum 1)."
   ]
  },
  {
   "cell_type": "markdown",
   "metadata": {},
   "source": [
    "## Exercice 3\n",
    "\n",
    "Now that the dataset is organized, plot the distribution of \"age\", \"gender\", and \"bmi\" features. To do so, you can use histograms or [violin diagram from the matplotlib library](https://matplotlib.org/3.3.1/api/_as_gen/matplotlib.axes.Axes.violinplot.html). In addition, show a single figure with one subplot for each variable."
   ]
  },
  {
   "cell_type": "code",
   "execution_count": 6,
   "metadata": {},
   "outputs": [
    {
     "data": {
      "image/png": "[encoded data removed]",
      "text/plain": [
       "<Figure size 864x360 with 3 Axes>"
      ]
     },
     "metadata": {},
     "output_type": "display_data"
    }
   ],
   "source": [
    "features = [\"age\",\"sex\",\"bmi\"]\n",
    "n_features = len(features)\n",
    "\n",
    "nc = n_features\n",
    "nr = 1\n",
    "\n",
    "fig,ax = plt.subplots( nrows=nr, ncols=nc, figsize=(12,5), facecolor='w')\n",
    "\n",
    "for feat in range(n_features):    \n",
    "    this_feature = features[feat]\n",
    "    plt.sca(ax[feat])\n",
    "    plt.violinplot(diabetes_data_df[this_feature])\n",
    "    plt.xlabel(this_feature)\n",
    "    \n",
    "plt.tight_layout()\n"
   ]
  },
  {
   "cell_type": "markdown",
   "metadata": {},
   "source": [
    "## Exercice 4\n",
    "\n",
    "Considering this dataset, a hospital wants to know which characteristics might be the most relevant factors for poor recovery in diabetes patients.\n",
    "\n",
    "**1)** The correlation allows us to study the relationship between two variables, and Pandas offers a function to calculate correlations easily with the method [`corr()`](https://pandas.pydata.org/pandas-docs/stable/reference/api/pandas.DataFrame.corr.html). This function graphically represents in a [correlation matrix or correlogram](https://es.wikipedia.org/wiki/Matriz_de_correlaci%C3%B3n) the correlation between the diabetes patient's features, as well as their correlation with the target variable. Consulting the correlogram, which are the three most relevant features for the progression of the disease? Justify the answer. \n",
    "\n",
    "\n",
    "**2)** Would it be possible to use an **unsupervised** data analysis technique to solve this problem? Why?"
   ]
  },
  {
   "cell_type": "code",
   "execution_count": 7,
   "metadata": {
    "scrolled": false
   },
   "outputs": [
    {
     "data": {
      "text/plain": [
       "<matplotlib.colorbar.Colorbar at 0x23f89b71a60>"
      ]
     },
     "execution_count": 7,
     "metadata": {},
     "output_type": "execute_result"
    },
    {
     "data": {
      "image/png": "[encoded data removed]",
      "text/plain": [
       "<Figure size 720x360 with 2 Axes>"
      ]
     },
     "metadata": {
      "needs_background": "light"
     },
     "output_type": "display_data"
    }
   ],
   "source": [
    "# 4.1)\n",
    "import numpy as np\n",
    "\n",
    "corr = diabetes_data_df.corr()\n",
    "corr_labels = np.around( corr.to_numpy(), 2)\n",
    "        \n",
    "plt.figure(figsize=(10,5))\n",
    "plt.pcolor(corr)\n",
    "\n",
    "for ii in range(corr_labels.shape[0]):\n",
    "    for jj in range(corr_labels.shape[1]):\n",
    "        plt.text( ii+0.1, jj+0.2, corr_labels[ii,jj] )\n",
    "\n",
    "plt.yticks(np.arange(0.5, len(corr.index), 1), corr.index)\n",
    "plt.xticks(np.arange(0.5, len(corr.columns), 1), corr.columns)\n",
    "plt.colorbar() "
   ]
  },
  {
   "cell_type": "markdown",
   "metadata": {},
   "source": [
    "**4.1**\n",
    "\n",
    "The three characteristics that show the highest correlation with diabetes progression are BMI, S5 marker, and BP, in that order of relevance. Therefore, these are the variables that are most closely related to the disease progression. "
   ]
  },
  {
   "cell_type": "markdown",
   "metadata": {},
   "source": [
    "**4.2**\n",
    "\n",
    "In this case, our goal is to predict the progression of the disease, thus, a supervised method is mandatory to train the model according to the progression target. If the goal is to group patients into *clusters* to later predict their progression according to assumptions, it is possible to use unsupervised methods, such as the *Main Component Analysis*."
   ]
  },
  {
   "cell_type": "markdown",
   "metadata": {},
   "source": [
    "## Exercice 5\n",
    "\n",
    "In this exercise, you will need to apply multiple linear regression to construct a predictive model of impairment in diabetes patients based on the characteristics of the data set.\n",
    "\n",
    "- First of all, divide the data into training and evaluation sets, with a test sample size of 33%.\n",
    " \n",
    "- Then, train the model with the training data and calculate the accuracy of the model. Write a brief explanation of what it means to get such accuracy."
   ]
  },
  {
   "cell_type": "code",
   "execution_count": 18,
   "metadata": {},
   "outputs": [
    {
     "name": "stdout",
     "output_type": "stream",
     "text": [
      "The precision is : 0.5111002387854824\n"
     ]
    }
   ],
   "source": [
    "from sklearn.linear_model import LinearRegression\n",
    "from sklearn.model_selection import train_test_split\n",
    "\n",
    "y = diabetes_data_df['progresion']\n",
    "X = diabetes_data_df.drop('deterioro', axis=1)\n",
    "X = X.drop('progresion', axis=1)\n",
    "\n",
    "## Split data\n",
    "X_train, X_test, y_train, y_test = train_test_split(X, y, test_size=0.33)\n",
    "\n",
    "## Train model\n",
    "clf = LinearRegression().fit(X_train, y_train)\n",
    "\n",
    "precision =  clf.score(X_test, y_test)\n",
    "print( \"The precision is : {0}\".format(precision)  )"
   ]
  },
  {
   "cell_type": "markdown",
   "metadata": {},
   "source": [
    "**Answer**\n",
    "\n",
    "The multiple linear regression model has an accuracy of 50%. This means that a 50% of the records in the test set are correctly estimated."
   ]
  },
  {
   "cell_type": "markdown",
   "metadata": {},
   "source": [
    "## Exercice 6\n",
    "\n",
    "Use a statistical test [t-test](https://docs.scipy.org/doc/scipy/reference/generated/scipy.stats.ttest_ind.html) to answer the following question: Men diagnosed with diabetes are more likely to deterioration than women?\n",
    "\n",
    "- Null hypothesis: Men diagnosed with diabetes do not have a different deterioration trend than women.\n",
    "\n",
    "- Alternative hypothesis: Men diagnosed with diabetes have a different tendency to deteriorate than women.\n",
    "\n",
    "Once done, interpret the resulting values and extract a conclusion."
   ]
  },
  {
   "cell_type": "code",
   "execution_count": 35,
   "metadata": {},
   "outputs": [],
   "source": [
    "# New categorical sex column\n",
    "diabetes_data_df['sex_label'] = \"\"\n",
    "\n",
    "index_severo = diabetes_data_df[ diabetes_data_df['sex'] > 0].index\n",
    "diabetes_data_df['sex_label'].iloc[index_severo] =  'Woman'\n",
    "\n",
    "index_moderado = diabetes_data_df[ diabetes_data_df['sex'] < 0 ].index\n",
    "diabetes_data_df['sex_label'].iloc[index_moderado] = 'Men'\n"
   ]
  },
  {
   "cell_type": "code",
   "execution_count": 21,
   "metadata": {},
   "outputs": [
    {
     "data": {
      "text/plain": [
       "([<matplotlib.axis.XTick at 0x23f89ecffd0>,\n",
       "  <matplotlib.axis.XTick at 0x23f89ed0850>],\n",
       " [Text(1, 0, 'Woman'), Text(2, 0, 'Men')])"
      ]
     },
     "execution_count": 21,
     "metadata": {},
     "output_type": "execute_result"
    },
    {
     "data": {
      "image/png": "[encoded data removed]",
      "text/plain": [
       "<Figure size 432x288 with 1 Axes>"
      ]
     },
     "metadata": {
      "needs_background": "light"
     },
     "output_type": "display_data"
    }
   ],
   "source": [
    "# Both sexes boxplots seem to be very similar\n",
    "\n",
    "plt.boxplot([diabetes_data_df[\n",
    "    diabetes_data_df['sex_label']=='Woman']['progresion'], \n",
    "\n",
    "diabetes_data_df[diabetes_data_df['sex_label']=='Men']['progresion']] )\n",
    "\n",
    "plt.xticks([1,2], ['Woman','Men'])"
   ]
  },
  {
   "cell_type": "code",
   "execution_count": 22,
   "metadata": {},
   "outputs": [
    {
     "data": {
      "text/plain": [
       "Ttest_indResult(statistic=0.9041147550244715, pvalue=0.3664292946519826)"
      ]
     },
     "execution_count": 22,
     "metadata": {},
     "output_type": "execute_result"
    }
   ],
   "source": [
    "# t-test\n",
    "from scipy import stats\n",
    "\n",
    "groups = diabetes_data_df.groupby('sex_label').groups\n",
    "\n",
    "stats.ttest_ind(diabetes_data_df.iloc[groups['Woman']]['progresion'], \n",
    "                diabetes_data_df.iloc[groups['Men']]['progresion'])"
   ]
  },
  {
   "cell_type": "markdown",
   "metadata": {},
   "source": [
    "**Answer**\n",
    "\n",
    "There are no significative differences between both sexes (p > 0.05). Therefore, the null hypothesis cannot be rejected and we can conclude that there is no evidence that the progression of diabetes is influenced by the sex of the patient.\n"
   ]
  },
  {
   "cell_type": "markdown",
   "metadata": {},
   "source": [
    "## Exercice 7\n",
    "\n",
    "Apply a classifier based on a [decision tree](https://es.wikipedia.org/wiki/Decision_Tree)\n",
    "of a maximum of 3 levels of depth to predict the progression of diabetes (severe or moderate according to the categories performed in exercise 5) using sex, age and BMI as attributes, and using 60% of the samples  as training set. You must use the [sklearn.tree.DecisionTreeClassifier](https://scikit-learn.org/stable/modules/generated/sklearn.tree.DecisionTreeClassifier.html) function.\n",
    "\n",
    "What accuracy do we obtain in a model based on a decision tree? Display the model and export it to a PDF file."
   ]
  },
  {
   "cell_type": "code",
   "execution_count": 23,
   "metadata": {},
   "outputs": [
    {
     "name": "stdout",
     "output_type": "stream",
     "text": [
      "La precisió és de 0.7123287671232876\n"
     ]
    },
    {
     "data": {
      "image/png": "[encoded data removed]",
      "text/plain": [
       "<Figure size 432x288 with 1 Axes>"
      ]
     },
     "metadata": {
      "needs_background": "light"
     },
     "output_type": "display_data"
    }
   ],
   "source": [
    "from sklearn.tree import DecisionTreeClassifier, plot_tree\n",
    "\n",
    "y = diabetes_data_df['deterioro']\n",
    "X = diabetes_data_df[['age','sex','bmi']]\n",
    "\n",
    "# Split train and test\n",
    "X_train, X_test, y_train, y_test = train_test_split(X, y, test_size=0.33)\n",
    "\n",
    "# Train model\n",
    "clf = DecisionTreeClassifier(max_depth=3).fit(X_train, y_train)\n",
    "\n",
    "print( \"La precisió és de {}\".format( clf.score(X_test, y_test)) )\n",
    "\n",
    "# plot tree\n",
    "plot_tree(clf, filled=True, feature_names=X_test.columns, class_names=['severo','moderado'])\n",
    "plt.savefig('tree.pdf')"
   ]
  },
  {
   "cell_type": "markdown",
   "metadata": {},
   "source": [
    "---"
   ]
  },
  {
   "cell_type": "markdown",
   "metadata": {},
   "source": [
    "### Optional Exercice\n",
    "\n",
    "In this exercise, we will assume that we can only use 2 of the following variables to predict patient deterioration: `age`,` sex`, `bmi`,` bp`, `s1`,` s 2`, `s3`, `s4`,` s5`, `s6`.\n",
    "\n",
    "Apply a *K-Nearest Neighbors* classifier to predict the patients' type according to its deterioration (severe or moderate progression) with only 2 variables. To find which pair of variables is the most relevant to acheiving better model performance, you will need to evaluate your classifier for each pair of variables."
   ]
  },
  {
   "cell_type": "code",
   "execution_count": 33,
   "metadata": {},
   "outputs": [
    {
     "name": "stdout",
     "output_type": "stream",
     "text": [
      "The features bmi and s5 obtain the better accuracy (0.7602739726027398)\n"
     ]
    }
   ],
   "source": [
    "from sklearn.neighbors import KNeighborsClassifier\n",
    "from itertools import combinations\n",
    "\n",
    "variables = ['age', 'sex', 'bmi', 'bp', 's1', 's2', 's3', 's4', 's5', 's6']\n",
    "\n",
    "tmp = []\n",
    "for pair in combinations(variables, 2):         \n",
    "        y = diabetes_data_df['deterioro']\n",
    "        X = diabetes_data_df[[feat_1, feat_2]]\n",
    "        X_train, X_test, y_train, y_test = train_test_split(X, y, test_size=0.33)\n",
    "\n",
    "        kn = KNeighborsClassifier(n_neighbors=3)\n",
    "        kn.fit(X_train, y_train)\n",
    "        tmp.append([feat_1, feat_2, kn.score(X_test, y_test)])\n",
    "            \n",
    "tmp = np.array(tmp)\n",
    "indice_mejor_rendimiento = np.argmax(tmp[:,2])\n",
    "feat_1, feat_2, score = tmp[  indice_mejor_rendimiento ]\n",
    "\n",
    "print(\"The features {} and {} obtain the better accuracy ({})\".format(feat_1, feat_2, score))"
   ]
  }
 ],
 "metadata": {
  "kernelspec": {
   "display_name": "Python 3",
   "language": "python",
   "name": "python3"
  },
  "language_info": {
   "codemirror_mode": {
    "name": "ipython",
    "version": 3
   },
   "file_extension": ".py",
   "mimetype": "text/x-python",
   "name": "python",
   "nbconvert_exporter": "python",
   "pygments_lexer": "ipython3",
   "version": "3.8.5"
  }
 },
 "nbformat": 4,
 "nbformat_minor": 2
}
